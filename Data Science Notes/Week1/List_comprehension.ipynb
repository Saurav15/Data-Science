{
 "cells": [
  {
   "cell_type": "code",
   "execution_count": 1,
   "metadata": {},
   "outputs": [],
   "source": [
    "# many a time it is teadius to use List in python \n",
    "#i.e make an empty list first then add thrn iterate the loop and add elements in it !\n",
    "# List comprehension lets u construst List in single line of code\n",
    "\n",
    "# A SIMPLE LIST IS \n",
    "list =[1,'e',3.13,6]"
   ]
  },
  {
   "cell_type": "code",
   "execution_count": 2,
   "metadata": {},
   "outputs": [],
   "source": [
    "# List comprehension is also surrounded by the brackets\n",
    "# list_comp =[expression for value in collection] \n",
    "# We can also add if in it \n",
    "#list_comp = [expression for value in collection if test]\n"
   ]
  },
  {
   "cell_type": "code",
   "execution_count": 3,
   "metadata": {},
   "outputs": [
    {
     "name": "stdout",
     "output_type": "stream",
     "text": [
      "[1, 4, 9, 16, 25, 36, 49, 64, 81, 100, 121, 144, 169]\n"
     ]
    }
   ],
   "source": [
    "# Lets have a look at the example :\n",
    "# Lets see basic List First :\n",
    "square = []\n",
    "\n",
    "for i in range(1,14):\n",
    "    square.append(i**2)\n",
    "\n",
    "print(square)"
   ]
  },
  {
   "cell_type": "code",
   "execution_count": 4,
   "metadata": {},
   "outputs": [
    {
     "name": "stdout",
     "output_type": "stream",
     "text": [
      "[1, 4, 9, 16, 25, 36, 49, 64, 81, 100, 121, 144, 169]\n"
     ]
    }
   ],
   "source": [
    "# Now lets do the same task using list comprehension\n",
    "square2 = [i**2 for i in range(1,14)]\n",
    "print(square2)"
   ]
  },
  {
   "cell_type": "code",
   "execution_count": null,
   "metadata": {},
   "outputs": [],
   "source": []
  }
 ],
 "metadata": {
  "kernelspec": {
   "display_name": "Python 3",
   "language": "python",
   "name": "python3"
  },
  "language_info": {
   "codemirror_mode": {
    "name": "ipython",
    "version": 3
   },
   "file_extension": ".py",
   "mimetype": "text/x-python",
   "name": "python",
   "nbconvert_exporter": "python",
   "pygments_lexer": "ipython3",
   "version": "3.7.1"
  }
 },
 "nbformat": 4,
 "nbformat_minor": 2
}
