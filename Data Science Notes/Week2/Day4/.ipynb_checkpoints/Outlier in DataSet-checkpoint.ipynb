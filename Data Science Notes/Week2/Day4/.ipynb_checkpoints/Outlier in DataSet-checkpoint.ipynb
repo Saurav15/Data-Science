{
 "cells": [
  {
   "cell_type": "markdown",
   "metadata": {},
   "source": [
    " # What is outlier ?"
   ]
  },
  {
   "cell_type": "markdown",
   "metadata": {},
   "source": [
    "### The outlier is the data point in the data set tahat is distant from all other observation . A datapoint that lies outside the overall distribution of the data set.\n",
    "\n",
    "We will understand this with the help of a credit card data set . Outlier can be useful for a data set like this , to find the fraud data ."
   ]
  },
  {
   "cell_type": "code",
   "execution_count": 2,
   "metadata": {},
   "outputs": [],
   "source": [
    "import numpy as np \n",
    "import matplotlib.pyplot as plt\n"
   ]
  },
  {
   "cell_type": "markdown",
   "metadata": {},
   "source": [
    "## What is the criteria to identifiy an outliers ?\n",
    "#### We will see 2 method to find outlier\n",
    "1. Data point that falls 1.5 times of an Interquartile range (IQR) above 3rd quartile or below 1st quartile\n",
    "2. Data point that falls outside 3 Satandard Deviations , we can use Z-score and if Z-score falls outside 2 Standard devaitions\n",
    "\n",
    "\n",
    "## What is Z-score ?\n",
    "https://www.youtube.com/watch?v=AJNRIsppKsY\n",
    "\n",
    "https://www.youtube.com/watch?v=2tuBREK_mgEVist \n",
    "Best way to understand what is Z-score. Watch Both the videos completely !"
   ]
  },
  {
   "cell_type": "markdown",
   "metadata": {},
   "source": [
    "## What is the reason for an outlier to exist in the data ?\n",
    "1. Variablity in data \n",
    "2. An experimental measurement error"
   ]
  },
  {
   "cell_type": "markdown",
   "metadata": {},
   "source": [
    "## What are the impact of outliers ? Why do we care about them ? \n",
    "1. Outliers causes various problems during our statistical analysis !\n",
    "2. It may cause significant impact on our mean and standard deviation \n",
    "\n",
    "eg. x=[1,2,3,4,5,199] # Here 199 is clearly an outlier . \n",
    "Lets see how it affects the Statistical analysis.\n",
    "Here mean = 35.66 Which clearly isnt the middle value ! "
   ]
  },
  {
   "cell_type": "markdown",
   "metadata": {},
   "source": [
    "#  "
   ]
  },
  {
   "cell_type": "markdown",
   "metadata": {},
   "source": [
    "## What are the various ways of finding outliers ?\n",
    "#### 1. Using scatter plot\n",
    "#### 2. Box plot\n",
    "#### 3. Using Z-score\n",
    "#### 4. Using IQR ( Inter Quantile range)"
   ]
  },
  {
   "cell_type": "code",
   "execution_count": 27,
   "metadata": {},
   "outputs": [],
   "source": [
    "# DATA_SET\n",
    "dataset = [10,12,13,9,15,11,17,13,108,16,10,12,19,11,110,13,12,14,10,15,10,12,16,19,115,10,14,13,11,16,117,17,12,15,18,10,102]"
   ]
  },
  {
   "cell_type": "markdown",
   "metadata": {},
   "source": [
    "## Detecting Outlier using Z-score .\n",
    "#### Formula for Z-score is  : (Observation-mean)/Standard Deviation"
   ]
  },
  {
   "cell_type": "code",
   "execution_count": 28,
   "metadata": {},
   "outputs": [],
   "source": [
    "outliers = []\n",
    "\n",
    "def detect_outliers(data):\n",
    "    threshold=2 #Tells that we will go for 3 times SD to consider a outlier\n",
    "    mean = np.mean(data) \n",
    "    std=np.std(data)\n",
    "        \n",
    "    for i in data:\n",
    "        z_score = (i-mean)/std\n",
    "        if(np.abs(z_score) > threshold):# Here np.abs is to find absolute value so if z_score is negative we dont go and check -3 . we take absolute value and compare to 3\n",
    "            outliers.append(i)\n",
    "    \n",
    "    return outliers\n",
    "\n",
    "            "
   ]
  },
  {
   "cell_type": "code",
   "execution_count": 30,
   "metadata": {},
   "outputs": [],
   "source": [
    "outliers_pt = detect_outliers(dataset)"
   ]
  },
  {
   "cell_type": "code",
   "execution_count": 31,
   "metadata": {},
   "outputs": [
    {
     "data": {
      "text/plain": [
       "[108, 110, 115, 117, 102, 108, 110, 115, 117, 102]"
      ]
     },
     "execution_count": 31,
     "metadata": {},
     "output_type": "execute_result"
    }
   ],
   "source": [
    "outliers_pt"
   ]
  },
  {
   "cell_type": "markdown",
   "metadata": {},
   "source": [
    "#  "
   ]
  },
  {
   "cell_type": "markdown",
   "metadata": {},
   "source": [
    "#  "
   ]
  },
  {
   "cell_type": "markdown",
   "metadata": {},
   "source": [
    "# InerQuantile Range\n",
    "\n",
    "### Steps\n",
    "\n",
    "#### 1. Arrange the data in increasing order\n",
    "#### 2. Calculate 1st and 3rd Quantile range\n",
    "#### 3. Find InterQuantile range i.e. Q3-Q1\n",
    "#### 4. Find Upper Bound i.e. Q3*1.5\n",
    "#### 5. Find Lower Bound i.e. Q1*1.5\n",
    "Anything outside the lower and upper bound is an Outlier"
   ]
  },
  {
   "cell_type": "code",
   "execution_count": 33,
   "metadata": {},
   "outputs": [],
   "source": [
    "# Step 1:Sort the dataset\n",
    "dataset = sorted(dataset)"
   ]
  },
  {
   "cell_type": "code",
   "execution_count": 39,
   "metadata": {},
   "outputs": [],
   "source": [
    "# Step 2: find Q1 and Q2\n",
    "quantile1 , quantile3 = np.percentile( dataset,[25,75])"
   ]
  },
  {
   "cell_type": "code",
   "execution_count": 40,
   "metadata": {},
   "outputs": [
    {
     "name": "stdout",
     "output_type": "stream",
     "text": [
      "11.0 17.0\n"
     ]
    }
   ],
   "source": [
    "print(quantile1 , quantile3)"
   ]
  },
  {
   "cell_type": "code",
   "execution_count": 41,
   "metadata": {},
   "outputs": [],
   "source": [
    "# Step 3 : Find IQR\n",
    "IQR = quantile3 - quantile1"
   ]
  },
  {
   "cell_type": "code",
   "execution_count": 42,
   "metadata": {},
   "outputs": [
    {
     "data": {
      "text/plain": [
       "6.0"
      ]
     },
     "execution_count": 42,
     "metadata": {},
     "output_type": "execute_result"
    }
   ],
   "source": [
    "IQR"
   ]
  },
  {
   "cell_type": "code",
   "execution_count": 43,
   "metadata": {},
   "outputs": [],
   "source": [
    "# Step 4 : Find Upper and Lower bound\n",
    "upper_bound = quantile3 + 1.5*IQR\n",
    "lower_bound = quantile1 - 1.5*IQR"
   ]
  },
  {
   "cell_type": "code",
   "execution_count": 46,
   "metadata": {},
   "outputs": [
    {
     "name": "stdout",
     "output_type": "stream",
     "text": [
      "2.0\n",
      "26.0\n"
     ]
    }
   ],
   "source": [
    "print(lower_bound)\n",
    "print(upper_bound)"
   ]
  },
  {
   "cell_type": "code",
   "execution_count": null,
   "metadata": {},
   "outputs": [],
   "source": []
  }
 ],
 "metadata": {
  "kernelspec": {
   "display_name": "Python 3",
   "language": "python",
   "name": "python3"
  },
  "language_info": {
   "codemirror_mode": {
    "name": "ipython",
    "version": 3
   },
   "file_extension": ".py",
   "mimetype": "text/x-python",
   "name": "python",
   "nbconvert_exporter": "python",
   "pygments_lexer": "ipython3",
   "version": "3.7.1"
  }
 },
 "nbformat": 4,
 "nbformat_minor": 2
}
